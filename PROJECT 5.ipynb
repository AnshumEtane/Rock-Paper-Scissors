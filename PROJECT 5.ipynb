{
 "cells": [
  {
   "cell_type": "markdown",
   "id": "57b924da",
   "metadata": {},
   "source": [
    "# VIPatAINEAI\n",
    "\n",
    "# Rock, Paper & Scissors"
   ]
  },
  {
   "cell_type": "markdown",
   "id": "e6562be0",
   "metadata": {},
   "source": [
    "# Anshum Etane\n",
    "# Project 5 : Essentials of Python Programming"
   ]
  },
  {
   "cell_type": "code",
   "execution_count": null,
   "id": "bdb8914c",
   "metadata": {},
   "outputs": [],
   "source": [
    "# For selecting a value between Rock, Paper & Scissors\n",
    "import random\n",
    "\n",
    "# User must enter their option and Computer will select it's option and then both options will be displayed.\n",
    "while True:\n",
    "    user_action = input(\"Enter a choice (rock, paper, scissors): \")\n",
    "    possible_actions = [\"rock\", \"paper\", \"scissors\"]\n",
    "    computer_action = random.choice(possible_actions)\n",
    "    print(f\"\\nYou chose {user_action}, computer chose {computer_action}.\\n\")\n",
    "\n",
    "# If User option equals Computer option, it will be a tie\n",
    "# Otherwise, the game will proceed according to ther normal rules: Rock smashes Scissors, Scissors cuts Paper, Paper wraps Rock.\n",
    "    if user_action == computer_action:\n",
    "        print(f\"Both players selected {user_action}. It's a tie!\")\n",
    "    elif user_action == \"rock\":\n",
    "        if computer_action == \"scissors\":\n",
    "            print(\"Rock smashes scissors! You win!\")\n",
    "        else:\n",
    "            print(\"Paper covers rock! You lose.\")\n",
    "    elif user_action == \"paper\":\n",
    "        if computer_action == \"rock\":\n",
    "            print(\"Paper covers rock! You win!\")\n",
    "        else:\n",
    "            print(\"Scissors cuts paper! You lose.\")\n",
    "    elif user_action == \"scissors\":\n",
    "        if computer_action == \"paper\":\n",
    "            print(\"Scissors cuts paper! You win!\")\n",
    "        else:\n",
    "            print(\"Rock smashes scissors! You lose.\")\n",
    "\n",
    "# If the User wants to play more rounds, type \"y\" or else type \"n\" and the game will end.\n",
    "    play_again = input(\"Play again? (y/n): \")\n",
    "    if play_again.lower() != \"y\":\n",
    "        break"
   ]
  }
 ],
 "metadata": {
  "kernelspec": {
   "display_name": "Python 3",
   "language": "python",
   "name": "python3"
  },
  "language_info": {
   "codemirror_mode": {
    "name": "ipython",
    "version": 3
   },
   "file_extension": ".py",
   "mimetype": "text/x-python",
   "name": "python",
   "nbconvert_exporter": "python",
   "pygments_lexer": "ipython3",
   "version": "3.8.8"
  }
 },
 "nbformat": 4,
 "nbformat_minor": 5
}
